{
 "cells": [
  {
   "cell_type": "code",
   "execution_count": 41,
   "metadata": {},
   "outputs": [
    {
     "name": "stdout",
     "output_type": "stream",
     "text": [
      "Doppler broadening: 315.2467951544879 MHz\n",
      "\n",
      "Doppler free broadening: 1.2609871806179518 MHz\n"
     ]
    }
   ],
   "source": [
    "import numpy as np\n",
    "import math\n",
    "k=1.380649e-23 #J/K\n",
    "c=3e8 #m/s\n",
    "T=300 #K\n",
    "amu=1.5e-27 \n",
    "#mHe=2\n",
    "mco=28\n",
    "m=mco*amu # in Kg\n",
    "\n",
    "#M=(mHe*mco*amu)/(mHe+mco)\n",
    "nu_bar=4263 #cm-1 # Change this value for the different transition\n",
    "dnu_bar=2*nu_bar*np.sqrt((2*k*T*math.log(2))/(m*(c)**2))\n",
    "print('Doppler broadening:',dnu_bar*30000,'MHz') # 1cm-1 = 30000 MHz, omega= 2_pi_nu is used\n",
    "print()\n",
    "\n",
    "#Collimation ratio\n",
    "# For d=2 mm and d 250 mm as in our case, epsilon=0.004 or sin(epsilon)=0.004\n",
    "sin_epsilon= 0.004\n",
    "Dopplerfreewidth=dnu_bar*sin_epsilon\n",
    "print('Doppler free broadening:',Dopplerfreewidth*30000,'MHz') # 1cm-1 = 30000 MHz, omega= 2_pi_nu is used"
   ]
  },
  {
   "cell_type": "code",
   "execution_count": null,
   "metadata": {},
   "outputs": [],
   "source": []
  }
 ],
 "metadata": {
  "kernelspec": {
   "display_name": "Python 3",
   "language": "python",
   "name": "python3"
  },
  "language_info": {
   "codemirror_mode": {
    "name": "ipython",
    "version": 3
   },
   "file_extension": ".py",
   "mimetype": "text/x-python",
   "name": "python",
   "nbconvert_exporter": "python",
   "pygments_lexer": "ipython3",
   "version": "3.7.4"
  }
 },
 "nbformat": 4,
 "nbformat_minor": 2
}
